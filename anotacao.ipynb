{
 "cells": [
  {
   "cell_type": "markdown",
   "metadata": {},
   "source": [
    "### 1. Saida de dados - Função Print"
   ]
  },
  {
   "cell_type": "markdown",
   "metadata": {},
   "source": [
    "### 2. Variáveis \n",
    "\n",
    "A variável guarda um valor, informação associada a ela.\n",
    "\n",
    "As variáveis são rótulos que podemos atribuir valores.\n",
    "\n",
    "A variável referencia um determinado valor.\n",
    "\n",
    "É possível mudar o valor de uma variável em seu programa a qualquer momento, e o Python sempre manterá o registro do valor atual."
   ]
  },
  {
   "cell_type": "markdown",
   "metadata": {},
   "source": [
    "#### 2.1 Nomeando variáveis\n",
    "\n",
    "*  Podem ter somente letras ou podem ter números e underscore"
   ]
  },
  {
   "cell_type": "code",
   "execution_count": 2,
   "metadata": {},
   "outputs": [],
   "source": [
    "name = 'Maria'\n",
    "midle_name = 'Luiza'\n",
    "name2 = 'Bruna'\n",
    "name_3 = 'Laura'"
   ]
  },
  {
   "cell_type": "markdown",
   "metadata": {},
   "source": [
    "* Não pode começar com numero, mas pode começar com underscore"
   ]
  },
  {
   "cell_type": "code",
   "execution_count": 3,
   "metadata": {},
   "outputs": [
    {
     "ename": "SyntaxError",
     "evalue": "invalid decimal literal (1953610923.py, line 2)",
     "output_type": "error",
     "traceback": [
      "\u001b[1;36m  Cell \u001b[1;32mIn[3], line 2\u001b[1;36m\u001b[0m\n\u001b[1;33m    2name = 'errado'\u001b[0m\n\u001b[1;37m    ^\u001b[0m\n\u001b[1;31mSyntaxError\u001b[0m\u001b[1;31m:\u001b[0m invalid decimal literal\n"
     ]
    }
   ],
   "source": [
    "_name = 'correto'\n",
    "2name = 'errado'\n"
   ]
  },
  {
   "cell_type": "markdown",
   "metadata": {},
   "source": [
    "* Não pode ter espaço entre os nomes"
   ]
  },
  {
   "cell_type": "code",
   "execution_count": 4,
   "metadata": {},
   "outputs": [
    {
     "ename": "SyntaxError",
     "evalue": "invalid syntax (3059753855.py, line 2)",
     "output_type": "error",
     "traceback": [
      "\u001b[1;36m  Cell \u001b[1;32mIn[4], line 2\u001b[1;36m\u001b[0m\n\u001b[1;33m    midle name = 'errou'\u001b[0m\n\u001b[1;37m          ^\u001b[0m\n\u001b[1;31mSyntaxError\u001b[0m\u001b[1;31m:\u001b[0m invalid syntax\n"
     ]
    }
   ],
   "source": [
    "midle_name = 'acertou'\n",
    "midle name = 'errou'"
   ]
  },
  {
   "cell_type": "markdown",
   "metadata": {},
   "source": [
    "* Não se pode usar palavras reservadas ou nomes de funções Python"
   ]
  },
  {
   "cell_type": "code",
   "execution_count": 2,
   "metadata": {},
   "outputs": [
    {
     "name": "stdout",
     "output_type": "stream",
     "text": [
      "ok\n"
     ]
    },
    {
     "ename": "TypeError",
     "evalue": "'str' object is not callable",
     "output_type": "error",
     "traceback": [
      "\u001b[1;31m---------------------------------------------------------------------------\u001b[0m",
      "\u001b[1;31mTypeError\u001b[0m                                 Traceback (most recent call last)",
      "\u001b[1;32mc:\\Users\\mluiz\\Documents\\Python\\anotacao.ipynb Cell 9\u001b[0m line \u001b[0;36m4\n\u001b[0;32m      <a href='vscode-notebook-cell:/c%3A/Users/mluiz/Documents/Python/anotacao.ipynb#X11sZmlsZQ%3D%3D?line=1'>2</a>\u001b[0m \u001b[39mprint\u001b[39m(exemplo)\n\u001b[0;32m      <a href='vscode-notebook-cell:/c%3A/Users/mluiz/Documents/Python/anotacao.ipynb#X11sZmlsZQ%3D%3D?line=2'>3</a>\u001b[0m \u001b[39mprint\u001b[39m \u001b[39m=\u001b[39m \u001b[39m'\u001b[39m\u001b[39merro\u001b[39m\u001b[39m'\u001b[39m\n\u001b[1;32m----> <a href='vscode-notebook-cell:/c%3A/Users/mluiz/Documents/Python/anotacao.ipynb#X11sZmlsZQ%3D%3D?line=3'>4</a>\u001b[0m \u001b[39mprint\u001b[39;49m(\u001b[39mprint\u001b[39;49m)\n",
      "\u001b[1;31mTypeError\u001b[0m: 'str' object is not callable"
     ]
    }
   ],
   "source": [
    "exemplo = 'ok'\n",
    "print(exemplo)\n",
    "print = 'erro'\n",
    "print(print)"
   ]
  },
  {
   "cell_type": "markdown",
   "metadata": {},
   "source": [
    "* Devem ser sucintos e descritivos"
   ]
  },
  {
   "cell_type": "code",
   "execution_count": 3,
   "metadata": {},
   "outputs": [],
   "source": [
    "student_name = 'bom'\n",
    "s_n = 'ruim'\n",
    "name_length = 'otimo'\n",
    "length_of_persons_name = 'longo'"
   ]
  },
  {
   "cell_type": "markdown",
   "metadata": {},
   "source": [
    "### 3. Tipos de dados\n",
    "#### 3.1 Strings\n",
    "\n",
    "Uma string é uma série de caracteres.\n",
    "O que estiver entre aspas duplas ou simples é uma string."
   ]
  },
  {
   "cell_type": "code",
   "execution_count": 1,
   "metadata": {},
   "outputs": [],
   "source": [
    "exemplo_1 = \"Isso é uma string\"\n",
    "exemplo_2 = 'Isso é uma string'"
   ]
  },
  {
   "cell_type": "markdown",
   "metadata": {},
   "source": [
    "Dessa forma você pode usar aspas e apostrofo dentro de uma string."
   ]
  },
  {
   "cell_type": "code",
   "execution_count": 1,
   "metadata": {},
   "outputs": [
    {
     "name": "stdout",
     "output_type": "stream",
     "text": [
      "Isto são \"aspas\"\n",
      "Isto são 'aspas simples'\n",
      "It's a apostrofe\n"
     ]
    }
   ],
   "source": [
    "print('Isto são \"aspas\"')\n",
    "print(\"Isto são 'aspas simples'\")\n",
    "print(\"It's a apostrofe\")"
   ]
  },
  {
   "cell_type": "markdown",
   "metadata": {},
   "source": [
    "#### 3.1.1 Substring\n",
    "\n",
    "Uma substring é uma sequência contínua de caracteres dentro de uma string. Em outras palavras, é uma parte mais curta de uma string que ainda mantém a ordem original dos caracteres. Por exemplo, considere a string \"Python\":\n",
    "\n",
    "\"Pyt\" é uma substring.\n",
    "\"thon\" também é uma substring.\n",
    "\"Py\" e \"th\" são substrings menores.\n",
    "As substrings são identificadas pela sua posição na string mãe. Por exemplo, se temos a string \"Python\" e queremos a substring \"th\", ela começa no índice 2 (contagem a partir de 0) e vai até o índice 3, inclusive.\n",
    "\n",
    "Em Python, podemos usar índices e fatiamento para extrair substrings. Por exemplo:"
   ]
  },
  {
   "cell_type": "code",
   "execution_count": 5,
   "metadata": {},
   "outputs": [
    {
     "name": "stdout",
     "output_type": "stream",
     "text": [
      "a Lov\n"
     ]
    }
   ],
   "source": [
    "name = 'Ada Lovelace'\n",
    "substring = name[2:7]\n",
    "print(substring)"
   ]
  },
  {
   "cell_type": "markdown",
   "metadata": {},
   "source": [
    "#### 3.1.2 Alterando strings com métodos\n",
    "\n",
    "Um método é uma função associada a um objeto que realiza uma ação específica com base nos dados do objeto\n",
    "\n",
    "Os métodos são chamados em objetos, exemplo: objeto.metodo()\n",
    "\n",
    "Os parênteses são usados para chamar o método, e também para receber argumentos adicionais. Alguns métodos não exigem parâmetros, enquanto outros podem aceitar um ou mais\n",
    "\n",
    "##### Método title()\n",
    "\n",
    "O método title() é um método de string que retorna uma versão da string com a primeira letra de cada palavra em maiúscula e as letras restantes em minúscula. Ele não modifica a string original, mas retorna uma nova string com as alterações."
   ]
  },
  {
   "cell_type": "code",
   "execution_count": 2,
   "metadata": {},
   "outputs": [
    {
     "name": "stdout",
     "output_type": "stream",
     "text": [
      "Ada Lovelace\n"
     ]
    }
   ],
   "source": [
    "name = 'ada lovelace'\n",
    "print(name.title())"
   ]
  },
  {
   "cell_type": "markdown",
   "metadata": {},
   "source": [
    "##### Método capitalize()\n",
    "\n",
    "Retorna uma cópia da string com o primeiro caractere em maiúscula e os caracteres restantes em minúscula."
   ]
  },
  {
   "cell_type": "code",
   "execution_count": 2,
   "metadata": {},
   "outputs": [
    {
     "name": "stdout",
     "output_type": "stream",
     "text": [
      "Ada lovelace\n"
     ]
    }
   ],
   "source": [
    "name = 'ada lovelace'\n",
    "print(name.capitalize())"
   ]
  },
  {
   "cell_type": "markdown",
   "metadata": {},
   "source": [
    "##### Métodos upper() e lower()\n",
    "\n",
    "Retorna versões em maiúsculas e minúsculas da string, respectivamente."
   ]
  },
  {
   "cell_type": "code",
   "execution_count": 3,
   "metadata": {},
   "outputs": [
    {
     "name": "stdout",
     "output_type": "stream",
     "text": [
      "ADA LOVELACE\n",
      "ada lovelace\n"
     ]
    }
   ],
   "source": [
    "name = 'Ada Lovelace'\n",
    "print(name.upper())\n",
    "print(name.lower())"
   ]
  },
  {
   "cell_type": "markdown",
   "metadata": {},
   "source": [
    "##### Método strip(), lstrip() e rstrip()\n",
    "\n",
    "O tratamento de espaços em branco em Python, pode ser importante por várias razões:\n",
    "\n",
    "**Entrada do Usuário:** Ao receber entrada do usuário, espaços extras no início ou no final podem ser introduzidos acidentalmente ao digitar. O strip() ajuda a garantir que a entrada esteja limpa e livre de espaços desnecessários.\n",
    "\n",
    "**Comparação de Strings:** Ao comparar strings, é comum querer ignorar espaços em branco extras. O strip() ajuda a normalizar as strings, removendo espaços desnecessários, facilitando a comparação.\n",
    "\n",
    "**Processamento de Dados:** Ao lidar com dados de arquivos ou bancos de dados, espaços em branco extras podem ser uma fonte de inconsistência. Removê-los com strip() ajuda a garantir consistência nos dados.\n",
    "\n",
    "**Formatação de Saída:** Ao exibir ou formatar strings para saída, é desejável que a apresentação seja limpa, sem espaços extras. O strip() é útil nesse contexto.\n",
    "\n",
    "**Evitar Erros de Lógica:** Espaços extras podem afetar a lógica do programa, especialmente se o código espera que uma string não tenha espaços no início ou no final. Tratar espaços em branco ajuda a evitar erros inesperados.\n",
    "Manipulação de Dados em Geral:\n",
    "\n",
    "Em muitos casos, trabalhar com strings que não têm espaços extras torna o código mais robusto e menos propenso a problemas relacionados à formatação de dados. E para isso existe os seguintes métodos que podem ser úteis nessas situações:\n",
    "\n",
    "**strip():**  utilizado para remover espaços em branco (como espaços, tabulações e quebras de linha) do início e do final de uma string.\n",
    "**lstrip():** utilizado para remover espaços em branco (como espaços, tabulações e quebras de linha) a esquerda de uma string.\n",
    "**rstrip():** utilizado para remover espaços em branco (como espaços, tabulações e quebras de linha) a direita uma string.\n"
   ]
  },
  {
   "cell_type": "code",
   "execution_count": 23,
   "metadata": {},
   "outputs": [
    {
     "name": "stdout",
     "output_type": "stream",
     "text": [
      "      Olá, mundo!       Cheguei!\n",
      "Olá, mundo! Cheguei!\n",
      "Olá, mundo!       Cheguei!\n",
      "      Olá, mundo! Cheguei!\n"
     ]
    }
   ],
   "source": [
    "texto = \"      Olá, mundo!      \"\n",
    "\n",
    "print(texto,'Cheguei!')\n",
    "print(texto.strip(),'Cheguei!')\n",
    "print(texto.lstrip(),'Cheguei!')\n",
    "print(texto.rstrip(),'Cheguei!' )"
   ]
  },
  {
   "cell_type": "code",
   "execution_count": 24,
   "metadata": {},
   "outputs": [
    {
     "name": "stdout",
     "output_type": "stream",
     "text": [
      "      Olá, mundo!       Cheguei!\n",
      "Olá, mundo! Cheguei!\n",
      "Olá, mundo!       Cheguei!\n",
      "      Olá, mundo! Cheguei!\n"
     ]
    }
   ],
   "source": [
    "texto = \"      Olá, mundo!      \"\n",
    "texto1 = texto.strip()\n",
    "texto2 = texto.lstrip()\n",
    "texto3 = texto.rstrip()\n",
    "\n",
    "\n",
    "print(texto,'Cheguei!')\n",
    "print(texto1,'Cheguei!')\n",
    "print(texto2,'Cheguei!')\n",
    "print(texto3,'Cheguei!' )"
   ]
  },
  {
   "cell_type": "markdown",
   "metadata": {},
   "source": [
    "##### Método removeprefix() ou removesuffix()\n",
    "\n",
    "**removeprefix()** - É um método de string introduzido no Python 3.9. Ele é usado para remover um determinado prefixo de uma string, se presente. Se a string não começar com o prefixo especificado, a string original é retornada sem alterações.\n",
    "\n",
    "**removesuffix()** - É um método de string introduzido no Python 3.9. Ele é usado para remover um determinado sulfixo de uma string, se presente. Se a string não terminar com o sulfixo especificado, a string original é retornada sem alterações."
   ]
  },
  {
   "cell_type": "code",
   "execution_count": 25,
   "metadata": {},
   "outputs": [
    {
     "name": "stdout",
     "output_type": "stream",
     "text": [
      "www.eletroshields.com.br/\n"
     ]
    }
   ],
   "source": [
    "frase = 'https://www.eletroshields.com.br/'\n",
    "prefixo = 'https://'\n",
    "\n",
    "resultado = frase.removeprefix(prefixo)\n",
    "\n",
    "print(resultado)"
   ]
  },
  {
   "cell_type": "code",
   "execution_count": 26,
   "metadata": {},
   "outputs": [
    {
     "name": "stdout",
     "output_type": "stream",
     "text": [
      "www.eletroshields.com.br/\n"
     ]
    }
   ],
   "source": [
    "frase = 'https://www.eletroshields.com.br/'\n",
    "print(frase.removeprefix('https://'))"
   ]
  },
  {
   "cell_type": "code",
   "execution_count": 30,
   "metadata": {},
   "outputs": [
    {
     "name": "stdout",
     "output_type": "stream",
     "text": [
      "Python é \n"
     ]
    }
   ],
   "source": [
    "frase = \"Python é poderoso\"\n",
    "sulfixo = 'poderoso'\n",
    "\n",
    "resultado = frase.removesuffix(sulfixo)\n",
    "print(resultado)"
   ]
  },
  {
   "cell_type": "code",
   "execution_count": 29,
   "metadata": {},
   "outputs": [
    {
     "name": "stdout",
     "output_type": "stream",
     "text": [
      "Python é \n"
     ]
    }
   ],
   "source": [
    "frase = \"Python é poderoso\"\n",
    "print(frase.removesuffix('poderoso'))"
   ]
  },
  {
   "cell_type": "markdown",
   "metadata": {},
   "source": [
    "##### Método count(substring)\n",
    "\n",
    "Retorna o número de ocorrências de uma substring na string."
   ]
  },
  {
   "cell_type": "code",
   "execution_count": 6,
   "metadata": {},
   "outputs": [
    {
     "name": "stdout",
     "output_type": "stream",
     "text": [
      "2\n"
     ]
    }
   ],
   "source": [
    "frase = \"python é poderoso e python é fácil\"\n",
    "contagem = frase.count(\"python\")\n",
    "print(contagem)  # Saída: 2"
   ]
  },
  {
   "cell_type": "markdown",
   "metadata": {},
   "source": [
    "##### Métodos find(substring) e index(substring)\n",
    "\n",
    "Retorna o índice da primeira ocorrência da substring na string. A diferença é que find retorna -1 se a substring não for encontrada, enquanto index levanta uma exceção ValueError."
   ]
  },
  {
   "cell_type": "code",
   "execution_count": 10,
   "metadata": {},
   "outputs": [
    {
     "name": "stdout",
     "output_type": "stream",
     "text": [
      "7\n",
      "9\n",
      "-1\n"
     ]
    },
    {
     "ename": "ValueError",
     "evalue": "substring not found",
     "output_type": "error",
     "traceback": [
      "\u001b[1;31m---------------------------------------------------------------------------\u001b[0m",
      "\u001b[1;31mValueError\u001b[0m                                Traceback (most recent call last)",
      "Cell \u001b[1;32mIn[10], line 8\u001b[0m\n\u001b[0;32m      6\u001b[0m indice3 \u001b[38;5;241m=\u001b[39m frase\u001b[38;5;241m.\u001b[39mfind(\u001b[38;5;124m\"\u001b[39m\u001b[38;5;124mk\u001b[39m\u001b[38;5;124m\"\u001b[39m)\n\u001b[0;32m      7\u001b[0m \u001b[38;5;28mprint\u001b[39m(indice3)  \u001b[38;5;66;03m# Saída: -1\u001b[39;00m\n\u001b[1;32m----> 8\u001b[0m indice4 \u001b[38;5;241m=\u001b[39m \u001b[43mfrase\u001b[49m\u001b[38;5;241;43m.\u001b[39;49m\u001b[43mindex\u001b[49m\u001b[43m(\u001b[49m\u001b[38;5;124;43m\"\u001b[39;49m\u001b[38;5;124;43mk\u001b[39;49m\u001b[38;5;124;43m\"\u001b[39;49m\u001b[43m)\u001b[49m\n\u001b[0;32m      9\u001b[0m \u001b[38;5;28mprint\u001b[39m(indice4)  \u001b[38;5;66;03m# Saída: ValueError\u001b[39;00m\n",
      "\u001b[1;31mValueError\u001b[0m: substring not found"
     ]
    }
   ],
   "source": [
    "frase = \"python é incrível\"\n",
    "indice1 = frase.find(\"é\")\n",
    "print(indice1)  # Saída: 7\n",
    "indice2 = frase.index(\"incrível\")\n",
    "print(indice2)  # Saída: 9\n",
    "indice3 = frase.find(\"k\")\n",
    "print(indice3)  # Saída: -1\n",
    "indice4 = frase.index(\"k\")\n",
    "print(indice4)  # Saída: ValueError"
   ]
  },
  {
   "cell_type": "markdown",
   "metadata": {},
   "source": [
    "##### Método replace(antiga, nova)\n",
    "\n",
    "Substitui todas as ocorrências de uma substring pela nova substring."
   ]
  },
  {
   "cell_type": "code",
   "execution_count": 12,
   "metadata": {},
   "outputs": [
    {
     "name": "stdout",
     "output_type": "stream",
     "text": [
      "python é poderoso\n"
     ]
    }
   ],
   "source": [
    "frase = \"python é divertido\"\n",
    "nova_string = frase.replace(\"divertido\", \"poderoso\")\n",
    "print(nova_string)  # Saída: \"python é poderoso\""
   ]
  },
  {
   "cell_type": "markdown",
   "metadata": {},
   "source": [
    "##### Métodos startswith(prefixo) e endswith(sufixo)\n",
    "\n",
    "Verifica se a string começa ou termina com a substring especificada."
   ]
  },
  {
   "cell_type": "code",
   "execution_count": 14,
   "metadata": {},
   "outputs": [
    {
     "name": "stdout",
     "output_type": "stream",
     "text": [
      "True\n",
      "True\n",
      "False\n",
      "False\n"
     ]
    }
   ],
   "source": [
    "frase = \"Olá, Mundo\"\n",
    "comeca_com_ola = frase.startswith(\"Olá\")\n",
    "termina_com_mundo = frase.endswith(\"Mundo\")\n",
    "comeca_com_mundo = frase.startswith(\"Mundo\")\n",
    "termina_com_ola = frase.endswith(\"Olá\")\n",
    "print(comeca_com_ola)  # Saída: True\n",
    "print(termina_com_mundo)  # Saída: True\n",
    "print(comeca_com_mundo)  # Saída: False\n",
    "print(termina_com_ola)  # Saída: False"
   ]
  },
  {
   "cell_type": "markdown",
   "metadata": {},
   "source": [
    "#### 3.1.3 Usando variáveis em string (f-string)\n",
    "\n",
    "Uma f-string (format string) é uma forma de formatar strings em Python, introduzida na versão 3.6 do Python. Ela permite incorporar expressões e variáveis diretamente em strings, tornando a formatação mais concisa e legível. As f-strings são marcadas com o prefixo \"f\" antes das aspas que definem a string.\n",
    "\n",
    "A principal característica das f-strings é a capacidade de incluir expressões e variáveis diretamente dentro da string usando chaves {}. Quando uma f-string é avaliada, as expressões dentro das chaves são calculadas e seus resultados são incorporados à string.\n"
   ]
  },
  {
   "cell_type": "code",
   "execution_count": 16,
   "metadata": {},
   "outputs": [
    {
     "name": "stdout",
     "output_type": "stream",
     "text": [
      "ada lovelace\n"
     ]
    }
   ],
   "source": [
    "first_name = 'ada'\n",
    "last_name = 'lovelace'\n",
    "full_name = f'{first_name} {last_name}'\n",
    "print(full_name)"
   ]
  },
  {
   "cell_type": "markdown",
   "metadata": {},
   "source": [
    "Podemos usar f-strings para compor mensagens completas usando as informações associadas a uma variável."
   ]
  },
  {
   "cell_type": "code",
   "execution_count": 17,
   "metadata": {},
   "outputs": [
    {
     "name": "stdout",
     "output_type": "stream",
     "text": [
      "Hello, Ada Lovelace!\n"
     ]
    }
   ],
   "source": [
    "first_name = 'ada'\n",
    "last_name = 'lovelace'\n",
    "full_name = f'{first_name} {last_name}'\n",
    "print(f'Hello, {full_name.title()}!')"
   ]
  },
  {
   "cell_type": "code",
   "execution_count": 19,
   "metadata": {},
   "outputs": [
    {
     "name": "stdout",
     "output_type": "stream",
     "text": [
      "Hello, Ada Lovelace!\n"
     ]
    }
   ],
   "source": [
    "first_name = 'ada'\n",
    "last_name = 'lovelace'\n",
    "full_name = f'{first_name} {last_name}'\n",
    "message = f'Hello, {full_name.title()}!'\n",
    "print(message)"
   ]
  },
  {
   "cell_type": "markdown",
   "metadata": {},
   "source": [
    "### 3.2 Números\n",
    "\n"
   ]
  }
 ],
 "metadata": {
  "kernelspec": {
   "display_name": "Python 3",
   "language": "python",
   "name": "python3"
  },
  "language_info": {
   "codemirror_mode": {
    "name": "ipython",
    "version": 3
   },
   "file_extension": ".py",
   "mimetype": "text/x-python",
   "name": "python",
   "nbconvert_exporter": "python",
   "pygments_lexer": "ipython3",
   "version": "3.11.4"
  }
 },
 "nbformat": 4,
 "nbformat_minor": 2
}
